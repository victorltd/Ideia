{
 "cells": [
  {
   "cell_type": "code",
   "execution_count": 1,
   "metadata": {},
   "outputs": [],
   "source": [
    "import pandas as pd\n",
    "import matplotlib.pyplot as plt\n",
    "plt.style.use('seaborn')"
   ]
  },
  {
   "cell_type": "code",
   "execution_count": 2,
   "metadata": {},
   "outputs": [
    {
     "data": {
      "text/html": [
       "<div>\n",
       "<style scoped>\n",
       "    .dataframe tbody tr th:only-of-type {\n",
       "        vertical-align: middle;\n",
       "    }\n",
       "\n",
       "    .dataframe tbody tr th {\n",
       "        vertical-align: top;\n",
       "    }\n",
       "\n",
       "    .dataframe thead th {\n",
       "        text-align: right;\n",
       "    }\n",
       "</style>\n",
       "<table border=\"1\" class=\"dataframe\">\n",
       "  <thead>\n",
       "    <tr style=\"text-align: right;\">\n",
       "      <th></th>\n",
       "      <th>numero</th>\n",
       "      <th>equipe</th>\n",
       "      <th>escola</th>\n",
       "      <th>uf</th>\n",
       "      <th>dip</th>\n",
       "      <th>dip_plantas</th>\n",
       "      <th>aerodinamica</th>\n",
       "      <th>desempenho</th>\n",
       "      <th>estabilidade</th>\n",
       "      <th>cargas</th>\n",
       "      <th>estruturas</th>\n",
       "      <th>estruturas_plantas</th>\n",
       "      <th>pel</th>\n",
       "      <th>subtotal_rela</th>\n",
       "      <th>penalidades</th>\n",
       "      <th>total_rela</th>\n",
       "      <th>apresentacao</th>\n",
       "      <th>penalidades_apresentacao</th>\n",
       "      <th>total_apresentacao</th>\n",
       "      <th>total_geral</th>\n",
       "    </tr>\n",
       "  </thead>\n",
       "  <tbody>\n",
       "    <tr>\n",
       "      <th>0</th>\n",
       "      <td>2</td>\n",
       "      <td>EESC-USP Alpha</td>\n",
       "      <td>Escola de Engenharia de S�o Carlos - Universid...</td>\n",
       "      <td>SP</td>\n",
       "      <td>16.52</td>\n",
       "      <td>7.64</td>\n",
       "      <td>23.57</td>\n",
       "      <td>22.60</td>\n",
       "      <td>21.91</td>\n",
       "      <td>19.19</td>\n",
       "      <td>17.36</td>\n",
       "      <td>8.74</td>\n",
       "      <td>22.86</td>\n",
       "      <td>160.40</td>\n",
       "      <td>-0.07</td>\n",
       "      <td>160.33</td>\n",
       "      <td>36.30</td>\n",
       "      <td>0</td>\n",
       "      <td>36.30</td>\n",
       "      <td>196.63</td>\n",
       "    </tr>\n",
       "    <tr>\n",
       "      <th>1</th>\n",
       "      <td>3</td>\n",
       "      <td>Uai. s�! Fly!!!</td>\n",
       "      <td>Universidade Federal de Minas Gerais (UFMG</td>\n",
       "      <td>MG</td>\n",
       "      <td>15.78</td>\n",
       "      <td>8.95</td>\n",
       "      <td>23.21</td>\n",
       "      <td>22.78</td>\n",
       "      <td>21.31</td>\n",
       "      <td>20.72</td>\n",
       "      <td>16.14</td>\n",
       "      <td>8.09</td>\n",
       "      <td>17.49</td>\n",
       "      <td>154.48</td>\n",
       "      <td>-0.19</td>\n",
       "      <td>154.29</td>\n",
       "      <td>36.63</td>\n",
       "      <td>0</td>\n",
       "      <td>36.63</td>\n",
       "      <td>190.91</td>\n",
       "    </tr>\n",
       "    <tr>\n",
       "      <th>2</th>\n",
       "      <td>1</td>\n",
       "      <td>Keep Flying</td>\n",
       "      <td>Escola Polit�cnica da Universidade de S�o Paul...</td>\n",
       "      <td>SP</td>\n",
       "      <td>15.43</td>\n",
       "      <td>8.36</td>\n",
       "      <td>24.12</td>\n",
       "      <td>22.61</td>\n",
       "      <td>21.83</td>\n",
       "      <td>16.18</td>\n",
       "      <td>16.69</td>\n",
       "      <td>8.56</td>\n",
       "      <td>19.58</td>\n",
       "      <td>153.36</td>\n",
       "      <td>-0.41</td>\n",
       "      <td>152.95</td>\n",
       "      <td>37.62</td>\n",
       "      <td>0</td>\n",
       "      <td>37.62</td>\n",
       "      <td>190.57</td>\n",
       "    </tr>\n",
       "    <tr>\n",
       "      <th>3</th>\n",
       "      <td>4</td>\n",
       "      <td>UIR� Aerodesign</td>\n",
       "      <td>Universidade Federal de Itajub� - Campus Itaju...</td>\n",
       "      <td>MG</td>\n",
       "      <td>16.76</td>\n",
       "      <td>8.76</td>\n",
       "      <td>17.96</td>\n",
       "      <td>22.89</td>\n",
       "      <td>23.71</td>\n",
       "      <td>20.12</td>\n",
       "      <td>15.17</td>\n",
       "      <td>8.64</td>\n",
       "      <td>17.51</td>\n",
       "      <td>151.53</td>\n",
       "      <td>-0.13</td>\n",
       "      <td>151.40</td>\n",
       "      <td>37.40</td>\n",
       "      <td>0</td>\n",
       "      <td>37.40</td>\n",
       "      <td>188.81</td>\n",
       "    </tr>\n",
       "    <tr>\n",
       "      <th>4</th>\n",
       "      <td>5</td>\n",
       "      <td>Tucano</td>\n",
       "      <td>Universidade Federal de Uberl�ndia (UFU</td>\n",
       "      <td>MG</td>\n",
       "      <td>16.91</td>\n",
       "      <td>8.18</td>\n",
       "      <td>21.75</td>\n",
       "      <td>22.57</td>\n",
       "      <td>22.62</td>\n",
       "      <td>19.22</td>\n",
       "      <td>15.62</td>\n",
       "      <td>8.92</td>\n",
       "      <td>15.12</td>\n",
       "      <td>150.90</td>\n",
       "      <td>0.00</td>\n",
       "      <td>150.90</td>\n",
       "      <td>36.23</td>\n",
       "      <td>0</td>\n",
       "      <td>36.23</td>\n",
       "      <td>187.13</td>\n",
       "    </tr>\n",
       "  </tbody>\n",
       "</table>\n",
       "</div>"
      ],
      "text/plain": [
       "   numero           equipe                                             escola  \\\n",
       "0       2   EESC-USP Alpha  Escola de Engenharia de S�o Carlos - Universid...   \n",
       "1       3  Uai. s�! Fly!!!         Universidade Federal de Minas Gerais (UFMG   \n",
       "2       1      Keep Flying  Escola Polit�cnica da Universidade de S�o Paul...   \n",
       "3       4  UIR� Aerodesign  Universidade Federal de Itajub� - Campus Itaju...   \n",
       "4       5           Tucano            Universidade Federal de Uberl�ndia (UFU   \n",
       "\n",
       "   uf    dip  dip_plantas  aerodinamica  desempenho  estabilidade  cargas  \\\n",
       "0  SP  16.52         7.64         23.57       22.60         21.91   19.19   \n",
       "1  MG  15.78         8.95         23.21       22.78         21.31   20.72   \n",
       "2  SP  15.43         8.36         24.12       22.61         21.83   16.18   \n",
       "3  MG  16.76         8.76         17.96       22.89         23.71   20.12   \n",
       "4  MG  16.91         8.18         21.75       22.57         22.62   19.22   \n",
       "\n",
       "   estruturas  estruturas_plantas    pel  subtotal_rela  penalidades  \\\n",
       "0       17.36                8.74  22.86         160.40        -0.07   \n",
       "1       16.14                8.09  17.49         154.48        -0.19   \n",
       "2       16.69                8.56  19.58         153.36        -0.41   \n",
       "3       15.17                8.64  17.51         151.53        -0.13   \n",
       "4       15.62                8.92  15.12         150.90         0.00   \n",
       "\n",
       "   total_rela  apresentacao  penalidades_apresentacao  total_apresentacao  \\\n",
       "0      160.33         36.30                         0               36.30   \n",
       "1      154.29         36.63                         0               36.63   \n",
       "2      152.95         37.62                         0               37.62   \n",
       "3      151.40         37.40                         0               37.40   \n",
       "4      150.90         36.23                         0               36.23   \n",
       "\n",
       "   total_geral  \n",
       "0       196.63  \n",
       "1       190.91  \n",
       "2       190.57  \n",
       "3       188.81  \n",
       "4       187.13  "
      ]
     },
     "execution_count": 2,
     "metadata": {},
     "output_type": "execute_result"
    }
   ],
   "source": [
    "df_2021 =  pd.read_csv(\"2021.csv\", sep=';')\n",
    "df_2020 =  pd.read_csv(\"2020.csv\", sep=';')\n",
    "\n",
    "df_2021.head()"
   ]
  },
  {
   "cell_type": "code",
   "execution_count": 3,
   "metadata": {},
   "outputs": [
    {
     "data": {
      "text/plain": [
       "0     196.63\n",
       "1     190.91\n",
       "2     190.57\n",
       "3     188.81\n",
       "4     187.13\n",
       "       ...  \n",
       "58      0.00\n",
       "59      0.00\n",
       "60      0.00\n",
       "61      0.00\n",
       "62      0.00\n",
       "Name: total_geral, Length: 63, dtype: float64"
      ]
     },
     "execution_count": 3,
     "metadata": {},
     "output_type": "execute_result"
    }
   ],
   "source": [
    "df_2021.loc[:,'total_geral']"
   ]
  },
  {
   "cell_type": "code",
   "execution_count": 4,
   "metadata": {},
   "outputs": [
    {
     "name": "stderr",
     "output_type": "stream",
     "text": [
      "C:\\Users\\Victor\\anaconda3\\lib\\site-packages\\matplotlib\\backends\\backend_agg.py:211: RuntimeWarning: Glyph 65533 missing from current font.\n",
      "  font.set_text(s, 0.0, flags=flags)\n",
      "C:\\Users\\Victor\\anaconda3\\lib\\site-packages\\matplotlib\\backends\\backend_agg.py:180: RuntimeWarning: Glyph 65533 missing from current font.\n",
      "  font.set_text(s, 0, flags=flags)\n"
     ]
    },
    {
     "data": {
      "image/png": "[encoded data removed]",
      "text/plain": [
       "<Figure size 576x396 with 1 Axes>"
      ]
     },
     "metadata": {},
     "output_type": "display_data"
    }
   ],
   "source": [
    "df_2020.head(20).groupby('equipe')['total_geral'].sum().sort_values(ascending=False).plot.bar();"
   ]
  },
  {
   "cell_type": "code",
   "execution_count": 5,
   "metadata": {},
   "outputs": [
    {
     "data": {
      "image/png": "[encoded data removed]",
      "text/plain": [
       "<Figure size 576x396 with 1 Axes>"
      ]
     },
     "metadata": {},
     "output_type": "display_data"
    }
   ],
   "source": [
    "#df_2020.groupby('equipe')['dip'].sum().sort_values(ascending=False).head(10).plot.barh(title='Pontuação')\n",
    "dip_2021=df_2021.groupby('equipe')['dip'].sum().sort_values(ascending=False).head(10)\n",
    "df_2021.groupby('equipe')['dip'].sum().sort_values(ascending=False).head(10).plot.bar(title='DIP', \n",
    "                                                                                      color='b' );\n",
    "plt.xlabel(\"Equipe\")\n",
    "plt.ylabel(\"Nota\")\n",
    "plt.axhline(y=17.46, color='r', linestyle='--');\n",
    "\n",
    "\n"
   ]
  },
  {
   "cell_type": "code",
   "execution_count": 6,
   "metadata": {},
   "outputs": [
    {
     "data": {
      "text/plain": [
       "count    10.000000\n",
       "mean     16.707000\n",
       "std       0.535559\n",
       "min      15.780000\n",
       "25%      16.580000\n",
       "50%      16.885000\n",
       "75%      16.962500\n",
       "max      17.460000\n",
       "Name: dip, dtype: float64"
      ]
     },
     "execution_count": 6,
     "metadata": {},
     "output_type": "execute_result"
    }
   ],
   "source": [
    "dip_2021.describe()"
   ]
  },
  {
   "cell_type": "code",
   "execution_count": 7,
   "metadata": {},
   "outputs": [
    {
     "data": {
      "text/plain": [
       "Text(0, 0.5, 'Nota')"
      ]
     },
     "execution_count": 7,
     "metadata": {},
     "output_type": "execute_result"
    },
    {
     "data": {
      "image/png": "[encoded data removed]",
      "text/plain": [
       "<Figure size 576x396 with 1 Axes>"
      ]
     },
     "metadata": {},
     "output_type": "display_data"
    }
   ],
   "source": [
    "#df_2020.groupby('equipe')['dip'].sum().sort_values(ascending=False).head(10).plot.barh(title='Pontuação')\n",
    "df_2021.groupby('equipe')['aerodinamica'].sum().sort_values(ascending=False).head(10).plot.bar(title='Aerodinamica');\n",
    "plt.xlabel(\"Equipe\")\n",
    "plt.ylabel(\"Nota\")"
   ]
  },
  {
   "cell_type": "markdown",
   "metadata": {},
   "source": [
    "## Aerodinâmica"
   ]
  },
  {
   "cell_type": "code",
   "execution_count": 25,
   "metadata": {},
   "outputs": [],
   "source": [
    "aerod_2021=df_2021.groupby('equipe')['aerodinamica'].sum().sort_values(ascending=False).head(10).reset_index()\n",
    "\n",
    "eq_aerod= aerod_2021.loc[:,'equipe']\n",
    "notas_aerod= aerod_2021.loc[:,'aerodinamica']\n"
   ]
  },
  {
   "cell_type": "markdown",
   "metadata": {},
   "source": [
    "#### Top 10 "
   ]
  },
  {
   "cell_type": "code",
   "execution_count": 16,
   "metadata": {},
   "outputs": [
    {
     "data": {
      "text/html": [
       "<div>\n",
       "<style scoped>\n",
       "    .dataframe tbody tr th:only-of-type {\n",
       "        vertical-align: middle;\n",
       "    }\n",
       "\n",
       "    .dataframe tbody tr th {\n",
       "        vertical-align: top;\n",
       "    }\n",
       "\n",
       "    .dataframe thead th {\n",
       "        text-align: right;\n",
       "    }\n",
       "</style>\n",
       "<table border=\"1\" class=\"dataframe\">\n",
       "  <thead>\n",
       "    <tr style=\"text-align: right;\">\n",
       "      <th></th>\n",
       "      <th>equipe</th>\n",
       "      <th>aerodinamica</th>\n",
       "    </tr>\n",
       "  </thead>\n",
       "  <tbody>\n",
       "    <tr>\n",
       "      <th>0</th>\n",
       "      <td>Keep Flying</td>\n",
       "      <td>24.12</td>\n",
       "    </tr>\n",
       "    <tr>\n",
       "      <th>1</th>\n",
       "      <td>EESC-USP Alpha</td>\n",
       "      <td>23.57</td>\n",
       "    </tr>\n",
       "    <tr>\n",
       "      <th>2</th>\n",
       "      <td>Uai. s�! Fly!!!</td>\n",
       "      <td>23.21</td>\n",
       "    </tr>\n",
       "    <tr>\n",
       "      <th>3</th>\n",
       "      <td>F-Carranca</td>\n",
       "      <td>22.57</td>\n",
       "    </tr>\n",
       "    <tr>\n",
       "      <th>4</th>\n",
       "      <td>Harpia Aerodesign</td>\n",
       "      <td>22.55</td>\n",
       "    </tr>\n",
       "    <tr>\n",
       "      <th>5</th>\n",
       "      <td>Tucano</td>\n",
       "      <td>21.75</td>\n",
       "    </tr>\n",
       "    <tr>\n",
       "      <th>6</th>\n",
       "      <td>Urubus AeroDesign</td>\n",
       "      <td>21.61</td>\n",
       "    </tr>\n",
       "    <tr>\n",
       "      <th>7</th>\n",
       "      <td>Kukulc�n Aerodesign</td>\n",
       "      <td>20.59</td>\n",
       "    </tr>\n",
       "    <tr>\n",
       "      <th>8</th>\n",
       "      <td>FEI Regular</td>\n",
       "      <td>20.48</td>\n",
       "    </tr>\n",
       "    <tr>\n",
       "      <th>9</th>\n",
       "      <td>AeroFEG</td>\n",
       "      <td>20.00</td>\n",
       "    </tr>\n",
       "  </tbody>\n",
       "</table>\n",
       "</div>"
      ],
      "text/plain": [
       "                equipe  aerodinamica\n",
       "0          Keep Flying         24.12\n",
       "1       EESC-USP Alpha         23.57\n",
       "2      Uai. s�! Fly!!!         23.21\n",
       "3           F-Carranca         22.57\n",
       "4    Harpia Aerodesign         22.55\n",
       "5               Tucano         21.75\n",
       "6    Urubus AeroDesign         21.61\n",
       "7  Kukulc�n Aerodesign         20.59\n",
       "8          FEI Regular         20.48\n",
       "9              AeroFEG         20.00"
      ]
     },
     "execution_count": 16,
     "metadata": {},
     "output_type": "execute_result"
    }
   ],
   "source": [
    "aerod_2021"
   ]
  },
  {
   "cell_type": "markdown",
   "metadata": {},
   "source": [
    "#### Gráfico"
   ]
  },
  {
   "cell_type": "code",
   "execution_count": 18,
   "metadata": {},
   "outputs": [
    {
     "data": {
      "image/png": "[encoded data removed]",
      "text/plain": [
       "<Figure size 576x396 with 1 Axes>"
      ]
     },
     "metadata": {},
     "output_type": "display_data"
    }
   ],
   "source": [
    "#plt.bar(eq_aerod , notas_aerod, 0.4, label = 'notas')\n",
    "\n",
    "barlist=plt.bar(eq_aerod , notas_aerod, 0.4, label = 'notas', color='b')\n",
    "barlist[3].set_color('r')\n",
    "plt.title('Aerodinamica')\n",
    "plt.xticks(rotation=90)\n",
    "plt.axhline(y=24.12, color='r', linestyle='--');\n",
    "\n",
    "plt.show();\n"
   ]
  },
  {
   "cell_type": "markdown",
   "metadata": {},
   "source": [
    "#### Dados relevantes"
   ]
  },
  {
   "cell_type": "code",
   "execution_count": 8,
   "metadata": {},
   "outputs": [
    {
     "data": {
      "text/html": [
       "<div>\n",
       "<style scoped>\n",
       "    .dataframe tbody tr th:only-of-type {\n",
       "        vertical-align: middle;\n",
       "    }\n",
       "\n",
       "    .dataframe tbody tr th {\n",
       "        vertical-align: top;\n",
       "    }\n",
       "\n",
       "    .dataframe thead th {\n",
       "        text-align: right;\n",
       "    }\n",
       "</style>\n",
       "<table border=\"1\" class=\"dataframe\">\n",
       "  <thead>\n",
       "    <tr style=\"text-align: right;\">\n",
       "      <th></th>\n",
       "      <th>aerodinamica</th>\n",
       "    </tr>\n",
       "  </thead>\n",
       "  <tbody>\n",
       "    <tr>\n",
       "      <th>count</th>\n",
       "      <td>10.000000</td>\n",
       "    </tr>\n",
       "    <tr>\n",
       "      <th>mean</th>\n",
       "      <td>22.045000</td>\n",
       "    </tr>\n",
       "    <tr>\n",
       "      <th>std</th>\n",
       "      <td>1.396171</td>\n",
       "    </tr>\n",
       "    <tr>\n",
       "      <th>min</th>\n",
       "      <td>20.000000</td>\n",
       "    </tr>\n",
       "    <tr>\n",
       "      <th>25%</th>\n",
       "      <td>20.845000</td>\n",
       "    </tr>\n",
       "    <tr>\n",
       "      <th>50%</th>\n",
       "      <td>22.150000</td>\n",
       "    </tr>\n",
       "    <tr>\n",
       "      <th>75%</th>\n",
       "      <td>23.050000</td>\n",
       "    </tr>\n",
       "    <tr>\n",
       "      <th>max</th>\n",
       "      <td>24.120000</td>\n",
       "    </tr>\n",
       "  </tbody>\n",
       "</table>\n",
       "</div>"
      ],
      "text/plain": [
       "       aerodinamica\n",
       "count     10.000000\n",
       "mean      22.045000\n",
       "std        1.396171\n",
       "min       20.000000\n",
       "25%       20.845000\n",
       "50%       22.150000\n",
       "75%       23.050000\n",
       "max       24.120000"
      ]
     },
     "execution_count": 8,
     "metadata": {},
     "output_type": "execute_result"
    }
   ],
   "source": [
    "aerod_2021.describe()"
   ]
  },
  {
   "cell_type": "markdown",
   "metadata": {},
   "source": [
    "#### Pontuação até o primeiro lugar de aerodinâmica"
   ]
  },
  {
   "cell_type": "code",
   "execution_count": 17,
   "metadata": {},
   "outputs": [
    {
     "data": {
      "text/plain": [
       "2.5100000000000016"
      ]
     },
     "execution_count": 17,
     "metadata": {},
     "output_type": "execute_result"
    }
   ],
   "source": [
    "notas_aerod[0]-notas_aerod[6]"
   ]
  },
  {
   "cell_type": "markdown",
   "metadata": {},
   "source": [
    "## Desemepenho"
   ]
  },
  {
   "cell_type": "code",
   "execution_count": 29,
   "metadata": {},
   "outputs": [],
   "source": [
    "dese_2021=df_2021.groupby('equipe')['desempenho'].sum().sort_values(ascending=False).head(10).reset_index()\n",
    "\n",
    "eq_dese= dese_2021.loc[:,'equipe']\n",
    "notas_dese= dese_2021.loc[:,'desempenho']\n"
   ]
  },
  {
   "cell_type": "markdown",
   "metadata": {},
   "source": [
    "#### Top 10"
   ]
  },
  {
   "cell_type": "code",
   "execution_count": 27,
   "metadata": {},
   "outputs": [
    {
     "data": {
      "text/html": [
       "<div>\n",
       "<style scoped>\n",
       "    .dataframe tbody tr th:only-of-type {\n",
       "        vertical-align: middle;\n",
       "    }\n",
       "\n",
       "    .dataframe tbody tr th {\n",
       "        vertical-align: top;\n",
       "    }\n",
       "\n",
       "    .dataframe thead th {\n",
       "        text-align: right;\n",
       "    }\n",
       "</style>\n",
       "<table border=\"1\" class=\"dataframe\">\n",
       "  <thead>\n",
       "    <tr style=\"text-align: right;\">\n",
       "      <th></th>\n",
       "      <th>equipe</th>\n",
       "      <th>desempenho</th>\n",
       "    </tr>\n",
       "  </thead>\n",
       "  <tbody>\n",
       "    <tr>\n",
       "      <th>0</th>\n",
       "      <td>UIR� Aerodesign</td>\n",
       "      <td>22.89</td>\n",
       "    </tr>\n",
       "    <tr>\n",
       "      <th>1</th>\n",
       "      <td>Uai. s�! Fly!!!</td>\n",
       "      <td>22.78</td>\n",
       "    </tr>\n",
       "    <tr>\n",
       "      <th>2</th>\n",
       "      <td>Keep Flying</td>\n",
       "      <td>22.61</td>\n",
       "    </tr>\n",
       "    <tr>\n",
       "      <th>3</th>\n",
       "      <td>EESC-USP Alpha</td>\n",
       "      <td>22.60</td>\n",
       "    </tr>\n",
       "    <tr>\n",
       "      <th>4</th>\n",
       "      <td>Tucano</td>\n",
       "      <td>22.57</td>\n",
       "    </tr>\n",
       "    <tr>\n",
       "      <th>5</th>\n",
       "      <td>F-Carranca</td>\n",
       "      <td>21.51</td>\n",
       "    </tr>\n",
       "    <tr>\n",
       "      <th>6</th>\n",
       "      <td>Falcons Aerodesign</td>\n",
       "      <td>20.87</td>\n",
       "    </tr>\n",
       "    <tr>\n",
       "      <th>7</th>\n",
       "      <td>Harpia Aerodesign</td>\n",
       "      <td>20.42</td>\n",
       "    </tr>\n",
       "    <tr>\n",
       "      <th>8</th>\n",
       "      <td>Urubus AeroDesign</td>\n",
       "      <td>20.15</td>\n",
       "    </tr>\n",
       "    <tr>\n",
       "      <th>9</th>\n",
       "      <td>Albatroz Aerodesign</td>\n",
       "      <td>20.10</td>\n",
       "    </tr>\n",
       "  </tbody>\n",
       "</table>\n",
       "</div>"
      ],
      "text/plain": [
       "                equipe  desempenho\n",
       "0      UIR� Aerodesign       22.89\n",
       "1      Uai. s�! Fly!!!       22.78\n",
       "2          Keep Flying       22.61\n",
       "3       EESC-USP Alpha       22.60\n",
       "4               Tucano       22.57\n",
       "5           F-Carranca       21.51\n",
       "6   Falcons Aerodesign       20.87\n",
       "7    Harpia Aerodesign       20.42\n",
       "8    Urubus AeroDesign       20.15\n",
       "9  Albatroz Aerodesign       20.10"
      ]
     },
     "execution_count": 27,
     "metadata": {},
     "output_type": "execute_result"
    }
   ],
   "source": [
    "dese_2021"
   ]
  },
  {
   "cell_type": "markdown",
   "metadata": {},
   "source": [
    "#### Gráfico"
   ]
  },
  {
   "cell_type": "code",
   "execution_count": 38,
   "metadata": {},
   "outputs": [
    {
     "data": {
      "image/png": "[encoded data removed]",
      "text/plain": [
       "<Figure size 576x396 with 1 Axes>"
      ]
     },
     "metadata": {},
     "output_type": "display_data"
    }
   ],
   "source": [
    "bar_desem=plt.bar(eq_dese , notas_dese, 0.4, label = 'notas', color='b')\n",
    "bar_desem[5].set_color('r')\n",
    "plt.title('Desempenho')\n",
    "plt.xticks(rotation=90);\n",
    "plt.axhline(y=22.89, color='r', linestyle='--');\n",
    "\n",
    "plt.show();\n"
   ]
  },
  {
   "cell_type": "code",
   "execution_count": 33,
   "metadata": {},
   "outputs": [
    {
     "data": {
      "text/html": [
       "<div>\n",
       "<style scoped>\n",
       "    .dataframe tbody tr th:only-of-type {\n",
       "        vertical-align: middle;\n",
       "    }\n",
       "\n",
       "    .dataframe tbody tr th {\n",
       "        vertical-align: top;\n",
       "    }\n",
       "\n",
       "    .dataframe thead th {\n",
       "        text-align: right;\n",
       "    }\n",
       "</style>\n",
       "<table border=\"1\" class=\"dataframe\">\n",
       "  <thead>\n",
       "    <tr style=\"text-align: right;\">\n",
       "      <th></th>\n",
       "      <th>desempenho</th>\n",
       "    </tr>\n",
       "  </thead>\n",
       "  <tbody>\n",
       "    <tr>\n",
       "      <th>count</th>\n",
       "      <td>10.000000</td>\n",
       "    </tr>\n",
       "    <tr>\n",
       "      <th>mean</th>\n",
       "      <td>21.650000</td>\n",
       "    </tr>\n",
       "    <tr>\n",
       "      <th>std</th>\n",
       "      <td>1.168018</td>\n",
       "    </tr>\n",
       "    <tr>\n",
       "      <th>min</th>\n",
       "      <td>20.100000</td>\n",
       "    </tr>\n",
       "    <tr>\n",
       "      <th>25%</th>\n",
       "      <td>20.532500</td>\n",
       "    </tr>\n",
       "    <tr>\n",
       "      <th>50%</th>\n",
       "      <td>22.040000</td>\n",
       "    </tr>\n",
       "    <tr>\n",
       "      <th>75%</th>\n",
       "      <td>22.607500</td>\n",
       "    </tr>\n",
       "    <tr>\n",
       "      <th>max</th>\n",
       "      <td>22.890000</td>\n",
       "    </tr>\n",
       "  </tbody>\n",
       "</table>\n",
       "</div>"
      ],
      "text/plain": [
       "       desempenho\n",
       "count   10.000000\n",
       "mean    21.650000\n",
       "std      1.168018\n",
       "min     20.100000\n",
       "25%     20.532500\n",
       "50%     22.040000\n",
       "75%     22.607500\n",
       "max     22.890000"
      ]
     },
     "execution_count": 33,
     "metadata": {},
     "output_type": "execute_result"
    }
   ],
   "source": [
    "dese_2021.describe()"
   ]
  },
  {
   "cell_type": "code",
   "execution_count": null,
   "metadata": {},
   "outputs": [],
   "source": []
  }
 ],
 "metadata": {
  "kernelspec": {
   "display_name": "Python 3",
   "language": "python",
   "name": "python3"
  },
  "language_info": {
   "codemirror_mode": {
    "name": "ipython",
    "version": 3
   },
   "file_extension": ".py",
   "mimetype": "text/x-python",
   "name": "python",
   "nbconvert_exporter": "python",
   "pygments_lexer": "ipython3",
   "version": "3.7.6"
  }
 },
 "nbformat": 4,
 "nbformat_minor": 4
}
